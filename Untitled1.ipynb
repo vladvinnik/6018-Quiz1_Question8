{
 "cells": [
  {
   "cell_type": "code",
   "execution_count": null,
   "id": "2f749046",
   "metadata": {},
   "outputs": [],
   "source": []
  },
  {
   "cell_type": "code",
   "execution_count": 18,
   "id": "a75a8b52",
   "metadata": {},
   "outputs": [
    {
     "name": "stdout",
     "output_type": "stream",
     "text": [
      "24.03\n"
     ]
    }
   ],
   "source": [
    "weight = 60\n",
    "height = 1.58\n",
    "BMI = weight/(height**2)\n",
    "\n",
    "#rounding to 2 decimal places\n",
    "BMI_rounded = round(BMI, 2)\n",
    "\n",
    "print(BMI_rounded)"
   ]
  },
  {
   "cell_type": "code",
   "execution_count": null,
   "id": "85963e5d",
   "metadata": {},
   "outputs": [],
   "source": []
  }
 ],
 "metadata": {
  "kernelspec": {
   "display_name": "Python 3 (ipykernel)",
   "language": "python",
   "name": "python3"
  },
  "language_info": {
   "codemirror_mode": {
    "name": "ipython",
    "version": 3
   },
   "file_extension": ".py",
   "mimetype": "text/x-python",
   "name": "python",
   "nbconvert_exporter": "python",
   "pygments_lexer": "ipython3",
   "version": "3.7.12"
  }
 },
 "nbformat": 4,
 "nbformat_minor": 5
}
